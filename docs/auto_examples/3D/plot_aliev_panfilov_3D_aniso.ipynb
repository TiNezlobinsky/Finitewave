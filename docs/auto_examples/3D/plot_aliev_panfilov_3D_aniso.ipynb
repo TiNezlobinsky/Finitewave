{
  "cells": [
    {
      "cell_type": "markdown",
      "metadata": {},
      "source": [
        "\n# AlievPanfilov3D (Aniso)\n\nThis example demonstrates how to use the Aliev-Panfilov model in 3D with\nanisotropic stencil.\n\n<div class=\"alert alert-info\"><h4>Note</h4><p>In anisotropic models, the ``AssymmetricStencil3D`` class should be used.</p></div>\n"
      ]
    },
    {
      "cell_type": "code",
      "execution_count": null,
      "metadata": {
        "collapsed": false
      },
      "outputs": [],
      "source": [
        "import matplotlib.pyplot as plt\nimport numpy as np\n\nimport finitewave as fw\n\n# number of nodes on the side\nn = 100\n\ntissue = fw.CardiacTissue3D((n, n, n))\n# create a mesh of cardiomyocytes (elems = 1):\ntissue.mesh = np.ones([n, n, n])\ntissue.add_boundaries()\n# add fibers orientation vectors\ntheta, alpha = 0.25*np.pi, 0.1*np.pi/4\ntissue.fibers = np.zeros((n, n, n, 3))\ntissue.fibers[:, :, :, 0] = np.cos(theta) * np.cos(alpha)\ntissue.fibers[:, :, :, 1] = np.cos(theta) * np.sin(alpha)\ntissue.fibers[:, :, :, 2] = np.sin(theta)\n# add numeric method stencil for weights computations\ntissue.stencil = fw.AsymmetricStencil3D()\ntissue.D_al = 1\ntissue.D_ac = tissue.D_al/9\n\n# create model object:\naliev_panfilov = fw.AlievPanfilov3D()\n# set up numerical parameters:\naliev_panfilov.dt = 0.01\naliev_panfilov.dr = 0.25\naliev_panfilov.t_max = 10\n# set up stimulation parameters:\nstim_sequence = fw.StimSequence()\nstim_sequence.add_stim(fw.StimVoltageCoord3D(0, 1, n//2 - 5, n//2 + 5,\n                                             n//2 - 5, n//2 + 5,\n                                             n//2 - 5, n//2 + 5))\n# add the tissue and the stim parameters to the model object:\naliev_panfilov.cardiac_tissue = tissue\naliev_panfilov.stim_sequence = stim_sequence\n# initialize model: compute weights, add stimuls, trackers etc.\naliev_panfilov.run()\n\nvis_mesh = tissue.mesh.copy()\nvis_mesh[n//2:, n//2:, n//2:] = 0\n\nmesh_builder = fw.VisMeshBuilder3D()\ngrid = mesh_builder.build_mesh(vis_mesh)\ngrid = mesh_builder.add_scalar(aliev_panfilov.u, 'u')\ngrid.plot(clim=[0, 1], cmap='viridis')"
      ]
    }
  ],
  "metadata": {
    "kernelspec": {
      "display_name": "Python 3",
      "language": "python",
      "name": "python3"
    },
    "language_info": {
      "codemirror_mode": {
        "name": "ipython",
        "version": 3
      },
      "file_extension": ".py",
      "mimetype": "text/x-python",
      "name": "python",
      "nbconvert_exporter": "python",
      "pygments_lexer": "ipython3",
      "version": "3.12.7"
    }
  },
  "nbformat": 4,
  "nbformat_minor": 0
}