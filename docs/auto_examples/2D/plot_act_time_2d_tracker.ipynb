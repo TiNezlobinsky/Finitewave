{
  "cells": [
    {
      "cell_type": "markdown",
      "metadata": {},
      "source": [
        "\n# ActivationTime2DTracker\n\nThis example demonstrates how to track the activation times during the\nsimulation\n"
      ]
    },
    {
      "cell_type": "code",
      "execution_count": null,
      "metadata": {
        "collapsed": false
      },
      "outputs": [],
      "source": [
        "import matplotlib.pyplot as plt\nimport numpy as np\n\nimport finitewave as fw\n\n# create a mesh of cardiomyocytes (elems = 1):\nn = 200\ntissue = fw.CardiacTissue2D([n, n])\ntissue.mesh = np.ones([n, n], dtype=\"uint8\")\ntissue.add_boundaries()\n\n# create model object and set up parameters:\naliev_panfilov = fw.AlievPanfilov2D()\naliev_panfilov.dt = 0.01\naliev_panfilov.dr = 0.25\naliev_panfilov.t_max = 50\n\n# set up stimulation parameters:\nstim_sequence = fw.StimSequence()\nstim_sequence.add_stim(fw.StimVoltageCoord2D(time=0, volt_value=1,\n                                             x1=0, x2=3, y1=0, y2=n))\n\n# set up tracker parameters:\ntracker_sequence = fw.TrackerSequence()\nact_time_tracker = fw.ActivationTime2DTracker()\nact_time_tracker.threshold = 0.5\nact_time_tracker.step = 100  # calculate activation time every 100 steps\ntracker_sequence.add_tracker(act_time_tracker)\n\n# add the tissue and the stim parameters to the model object:\naliev_panfilov.cardiac_tissue = tissue\naliev_panfilov.stim_sequence = stim_sequence\naliev_panfilov.tracker_sequence = tracker_sequence\n\naliev_panfilov.run()\n\n# plot the activation time map\n\nplt.figure()\nplt.imshow(act_time_tracker.output, cmap=\"viridis\")\nplt.colorbar()\nplt.title(\"Activation time map\")\nplt.show()"
      ]
    }
  ],
  "metadata": {
    "kernelspec": {
      "display_name": "Python 3",
      "language": "python",
      "name": "python3"
    },
    "language_info": {
      "codemirror_mode": {
        "name": "ipython",
        "version": 3
      },
      "file_extension": ".py",
      "mimetype": "text/x-python",
      "name": "python",
      "nbconvert_exporter": "python",
      "pygments_lexer": "ipython3",
      "version": "3.12.7"
    }
  },
  "nbformat": 4,
  "nbformat_minor": 0
}