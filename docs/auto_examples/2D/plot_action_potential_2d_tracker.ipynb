{
  "cells": [
    {
      "cell_type": "markdown",
      "metadata": {},
      "source": [
        "\n# ActionPotential2DTracker\n\nThis example demonstrates how to track the action potential at the specified\ncell indices.\n"
      ]
    },
    {
      "cell_type": "code",
      "execution_count": null,
      "metadata": {
        "collapsed": false
      },
      "outputs": [],
      "source": [
        "import matplotlib.pyplot as plt\nimport numpy as np\n\nimport finitewave as fw\n\n# create a mesh of cardiomyocytes (elems = 1):\nn = 100\ntissue = fw.CardiacTissue2D([n, n])\ntissue.mesh = np.ones([n, n], dtype=\"uint8\")\ntissue.add_boundaries()\n\n# create model object and set up parameters:\naliev_panfilov = fw.AlievPanfilov2D()\naliev_panfilov.dt = 0.01\naliev_panfilov.dr = 0.25\naliev_panfilov.t_max = 100\n\n# set up stimulation parameters:\nstim_sequence = fw.StimSequence()\nstim_sequence.add_stim(fw.StimVoltageCoord2D(0, 1, 0, 3, 0, n))\n\n# set up tracker parameters:\ntracker_sequence = fw.TrackerSequence()\naction_pot_tracker = fw.ActionPotential2DTracker()\n# to specify the mesh node under the measuring - use the cell_ind field:\n# eather list or list of lists can be used\naction_pot_tracker.cell_ind = [[30, 30], [40, 40]]\ntracker_sequence.add_tracker(action_pot_tracker)\n\n# add the tissue and the stim parameters to the model object:\naliev_panfilov.cardiac_tissue = tissue\naliev_panfilov.stim_sequence = stim_sequence\naliev_panfilov.tracker_sequence = tracker_sequence\n\naliev_panfilov.run()\n\n# plot the action potential\ntime = np.arange(len(action_pot_tracker.output)) * aliev_panfilov.dt\n\nplt.figure()\nplt.plot(time, action_pot_tracker.output[:, 0], label=\"cell_30_30\")\nplt.plot(time, action_pot_tracker.output[:, 1], label=\"cell_40_40\")\nplt.legend(title='Aliev-Panfilov')\nplt.show()"
      ]
    }
  ],
  "metadata": {
    "kernelspec": {
      "display_name": "Python 3",
      "language": "python",
      "name": "python3"
    },
    "language_info": {
      "codemirror_mode": {
        "name": "ipython",
        "version": 3
      },
      "file_extension": ".py",
      "mimetype": "text/x-python",
      "name": "python",
      "nbconvert_exporter": "python",
      "pygments_lexer": "ipython3",
      "version": "3.12.7"
    }
  },
  "nbformat": 4,
  "nbformat_minor": 0
}