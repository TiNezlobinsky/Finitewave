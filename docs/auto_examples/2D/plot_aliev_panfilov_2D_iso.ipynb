{
  "cells": [
    {
      "cell_type": "markdown",
      "metadata": {},
      "source": [
        "\n# AlievPanfilov2D (Iso)\n\nThis example demonstrates how to use the Aliev-Panfilov model in 2D with\nisotropic stencil.\n"
      ]
    },
    {
      "cell_type": "code",
      "execution_count": null,
      "metadata": {
        "collapsed": false
      },
      "outputs": [],
      "source": [
        "import matplotlib.pyplot as plt\nimport numpy as np\nimport finitewave as fw\n\n# create a mesh of cardiomyocytes (elems = 1):\nn = 400\ntissue = fw.CardiacTissue2D([n, n])\ntissue.mesh = np.ones([n, n])\ntissue.add_boundaries()\n\n# add IsotropicStencil for weights computations (default)\ntissue.stencil = fw.IsotropicStencil2D()\n\n# create model object and set up parameters:\naliev_panfilov = fw.AlievPanfilov2D()\naliev_panfilov.dt = 0.01\naliev_panfilov.dr = 0.25\naliev_panfilov.t_max = 30\n\n# set up stimulation parameters:\nstim_sequence = fw.StimSequence()\nstim_sequence.add_stim(fw.StimVoltageCoord2D(0, 1, n//2 - 3, n//2 + 3,\n                                             n//2 - 3, n//2 + 3))\n\n# add the tissue and the stim parameters to the model object:\naliev_panfilov.cardiac_tissue = tissue\naliev_panfilov.stim_sequence = stim_sequence\n\n# run the model:\naliev_panfilov.run()\n\n# show the potential map at the end of calculations:\nplt.figure()\nplt.imshow(aliev_panfilov.u)\nplt.show()"
      ]
    }
  ],
  "metadata": {
    "kernelspec": {
      "display_name": "Python 3",
      "language": "python",
      "name": "python3"
    },
    "language_info": {
      "codemirror_mode": {
        "name": "ipython",
        "version": 3
      },
      "file_extension": ".py",
      "mimetype": "text/x-python",
      "name": "python",
      "nbconvert_exporter": "python",
      "pygments_lexer": "ipython3",
      "version": "3.12.7"
    }
  },
  "nbformat": 4,
  "nbformat_minor": 0
}