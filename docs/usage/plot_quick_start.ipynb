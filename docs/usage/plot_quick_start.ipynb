{
  "cells": [
    {
      "cell_type": "markdown",
      "metadata": {},
      "source": [
        "\n# Quick start\nThis example demonstrates how to set up a simple 2D Aliev-Panfilov model\n"
      ]
    },
    {
      "cell_type": "markdown",
      "metadata": {},
      "source": [
        "Make imports\n\n"
      ]
    },
    {
      "cell_type": "code",
      "execution_count": null,
      "metadata": {
        "collapsed": false
      },
      "outputs": [],
      "source": [
        "import finitewave as fw\nimport numpy as np\nimport matplotlib.pyplot as plt"
      ]
    },
    {
      "cell_type": "markdown",
      "metadata": {},
      "source": [
        "Initialize a 100x100 mesh with all nodes set to 1 (healthy cardiac tissue).\nAdd empty nodes (0) at the mesh edges to simulate boundaries.\n\n"
      ]
    },
    {
      "cell_type": "code",
      "execution_count": null,
      "metadata": {
        "collapsed": false
      },
      "outputs": [],
      "source": [
        "n = 100\ntissue = fw.CardiacTissue2D([n, n])\ntissue.mesh = np.ones([n, n])\ntissue.add_boundaries()"
      ]
    },
    {
      "cell_type": "markdown",
      "metadata": {},
      "source": [
        "Set up Aliev-Panfilov model to perform simulation\n\n"
      ]
    },
    {
      "cell_type": "code",
      "execution_count": null,
      "metadata": {
        "collapsed": false
      },
      "outputs": [],
      "source": [
        "aliev_panfilov = fw.AlievPanfilov2D()\naliev_panfilov.dt = 0.01  # time step\naliev_panfilov.dr = 0.25  # space step\naliev_panfilov.t_max = 10  # simulation time"
      ]
    },
    {
      "cell_type": "markdown",
      "metadata": {},
      "source": [
        "Set up stimulation parameters (activation from a line of nodes in the mesh)\n\n"
      ]
    },
    {
      "cell_type": "code",
      "execution_count": null,
      "metadata": {
        "collapsed": false
      },
      "outputs": [],
      "source": [
        "stim_sequence = fw.StimSequence()\nstim_sequence.add_stim(fw.StimVoltageCoord2D(time=0,\n                                             volt_value=1,\n                                             x1=1,\n                                             x2=n-1,\n                                             y1=1,\n                                             y2=3))"
      ]
    },
    {
      "cell_type": "markdown",
      "metadata": {},
      "source": [
        "Assign the tissue and stimulation parameters to the model\n\n"
      ]
    },
    {
      "cell_type": "code",
      "execution_count": null,
      "metadata": {
        "collapsed": false
      },
      "outputs": [],
      "source": [
        "aliev_panfilov.cardiac_tissue = tissue\naliev_panfilov.stim_sequence = stim_sequence"
      ]
    },
    {
      "cell_type": "markdown",
      "metadata": {},
      "source": [
        "Run the simulation and show the output\n\n"
      ]
    },
    {
      "cell_type": "code",
      "execution_count": null,
      "metadata": {
        "collapsed": false
      },
      "outputs": [],
      "source": [
        "aliev_panfilov.run()\n\nplt.imshow(aliev_panfilov.u)\nplt.title(\"Aliev-Panfilov 2D model\")\nplt.colorbar(label='u')\nplt.show()"
      ]
    }
  ],
  "metadata": {
    "kernelspec": {
      "display_name": "Python 3",
      "language": "python",
      "name": "python3"
    },
    "language_info": {
      "codemirror_mode": {
        "name": "ipython",
        "version": 3
      },
      "file_extension": ".py",
      "mimetype": "text/x-python",
      "name": "python",
      "nbconvert_exporter": "python",
      "pygments_lexer": "ipython3",
      "version": "3.12.7"
    }
  },
  "nbformat": 4,
  "nbformat_minor": 0
}