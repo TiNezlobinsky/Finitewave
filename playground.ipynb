{
 "cells": [
  {
   "cell_type": "code",
   "execution_count": 9,
   "metadata": {},
   "outputs": [
    {
     "name": "stdout",
     "output_type": "stream",
     "text": [
      "67.2 µs ± 503 ns per loop (mean ± std. dev. of 7 runs, 10,000 loops each)\n"
     ]
    }
   ],
   "source": [
    "import numpy as np\n",
    "\n",
    "\n",
    "def threshold_crossing(u, t, threshold, inactive, cross_num, act_t):\n",
    "    threshold_cross = (u >= threshold) & inactive\n",
    "            \n",
    "    inactive[threshold_cross] = False\n",
    "    cross_num[threshold_cross] += 1\n",
    "\n",
    "    coords = np.argwhere(threshold_cross[np.newaxis, :, :])\n",
    "    coords[:, 0] = cross_num[threshold_cross]\n",
    "\n",
    "    if cross_num.max() >= act_t.shape[0]:\n",
    "        act_t = np.vstack((act_t, \n",
    "                                -np.ones((1, *act_t.shape[1:]))))\n",
    "\n",
    "    act_t[tuple(coords.T)] = t\n",
    "\n",
    "    back_cross = ~inactive & (u < threshold)\n",
    "    inactive[back_cross] = True\n",
    "\n",
    "    return act_t\n",
    "\n",
    "\n",
    "u = np.random.rand(100, 100)\n",
    "t = 10\n",
    "\n",
    "threshold = 0.5\n",
    "inactive = np.full_like(u, True, dtype=bool)\n",
    "cross_num = np.zeros_like(u)\n",
    "act_t = -np.ones((1, *u.shape))\n",
    "\n",
    "%timeit threshold_crossing(u, t, threshold, inactive, cross_num, act_t)"
   ]
  },
  {
   "cell_type": "code",
   "execution_count": 14,
   "metadata": {},
   "outputs": [
    {
     "name": "stdout",
     "output_type": "stream",
     "text": [
      "867 µs ± 20.2 µs per loop (mean ± std. dev. of 7 runs, 1,000 loops each)\n"
     ]
    }
   ],
   "source": [
    "coords = np.argwhere(u >= threshold)\n",
    "\n",
    "%timeit act_t[tuple(coords.T)] = t"
   ]
  },
  {
   "cell_type": "code",
   "execution_count": 26,
   "metadata": {},
   "outputs": [
    {
     "name": "stdout",
     "output_type": "stream",
     "text": [
      "23.9 µs ± 323 ns per loop (mean ± std. dev. of 7 runs, 10,000 loops each)\n"
     ]
    }
   ],
   "source": [
    "%timeit np.where(u >= threshold, t, act_t)"
   ]
  },
  {
   "cell_type": "code",
   "execution_count": 24,
   "metadata": {},
   "outputs": [
    {
     "name": "stdout",
     "output_type": "stream",
     "text": [
      "32.2 µs ± 504 ns per loop (mean ± std. dev. of 7 runs, 10,000 loops each)\n"
     ]
    }
   ],
   "source": [
    "%timeit act_t[u >= threshold] = t"
   ]
  },
  {
   "cell_type": "code",
   "execution_count": 19,
   "metadata": {},
   "outputs": [
    {
     "name": "stdout",
     "output_type": "stream",
     "text": [
      "24.6 µs ± 282 ns per loop (mean ± std. dev. of 7 runs, 10,000 loops each)\n"
     ]
    }
   ],
   "source": [
    "act_t = -np.ones(u.shape)\n",
    "%timeit res = np.where(u >= threshold, t, act_t)"
   ]
  },
  {
   "cell_type": "code",
   "execution_count": 30,
   "metadata": {},
   "outputs": [],
   "source": [
    "cross_mask = u >= threshold"
   ]
  },
  {
   "cell_type": "code",
   "execution_count": 35,
   "metadata": {},
   "outputs": [
    {
     "name": "stdout",
     "output_type": "stream",
     "text": [
      "64.2 µs ± 156 ns per loop (mean ± std. dev. of 7 runs, 10,000 loops each)\n"
     ]
    }
   ],
   "source": [
    "%timeit np.where((act_t > -1) & cross_mask)"
   ]
  },
  {
   "cell_type": "code",
   "execution_count": 11,
   "metadata": {},
   "outputs": [
    {
     "name": "stdout",
     "output_type": "stream",
     "text": [
      "697 µs ± 7.56 µs per loop (mean ± std. dev. of 7 runs, 1,000 loops each)\n"
     ]
    }
   ],
   "source": [
    "act_t = -np.ones((100, *u.shape))\n",
    "\n",
    "%timeit np.vstack((act_t, -np.ones((1, *act_t.shape[1:]))))"
   ]
  },
  {
   "cell_type": "code",
   "execution_count": 12,
   "metadata": {},
   "outputs": [
    {
     "name": "stdout",
     "output_type": "stream",
     "text": [
      "121 µs ± 3.48 µs per loop (mean ± std. dev. of 7 runs, 10,000 loops each)\n"
     ]
    }
   ],
   "source": [
    "def track(u, t, threshold, activated, act_t, amount):\n",
    "    # Calculate updated activation times where the threshold is crossed\n",
    "    updated_array = np.where((act_t[-1] < 0) & (u > threshold), t, -1)\n",
    "\n",
    "    # Update the amount of activations for cells that cross the threshold again\n",
    "    if np.any((activated == False) & (act_t[-1] > 0) & (u > threshold)):\n",
    "        amount = np.where(\n",
    "            (activated == False) & (act_t[-1] > 0) & (u > threshold),\n",
    "            amount + 1, amount\n",
    "        )\n",
    "        # If any cell has been activated more times than the current activation list length, append a new array\n",
    "        if np.any(amount > len(act_t)):\n",
    "            act_t.append(updated_array)\n",
    "    else:\n",
    "        # Update the last recorded activation times with new activations\n",
    "        act_t[-1] = np.where(updated_array > 0, updated_array, act_t[-1])\n",
    "\n",
    "    # Update the activation status of cells\n",
    "    activated[1:-1, 1:-1] = np.where(\n",
    "        (u[1:-1, 1:-1] > threshold) & (activated[1:-1, 1:-1] == False),\n",
    "        True, activated[1:-1, 1:-1]\n",
    "    )\n",
    "    # Reset the activation status if the potential drops below the threshold\n",
    "    activated[1:-1, 1:-1] = np.where(\n",
    "        (u[1:-1, 1:-1] <= threshold) & (activated[1:-1, 1:-1] == True),\n",
    "        False, activated[1:-1, 1:-1]\n",
    "    )\n",
    "\n",
    "\n",
    "%timeit track(u, t, threshold, inactive, act_t, cross_num)"
   ]
  }
 ],
 "metadata": {
  "kernelspec": {
   "display_name": "base",
   "language": "python",
   "name": "python3"
  },
  "language_info": {
   "codemirror_mode": {
    "name": "ipython",
    "version": 3
   },
   "file_extension": ".py",
   "mimetype": "text/x-python",
   "name": "python",
   "nbconvert_exporter": "python",
   "pygments_lexer": "ipython3",
   "version": "3.12.1"
  }
 },
 "nbformat": 4,
 "nbformat_minor": 2
}
